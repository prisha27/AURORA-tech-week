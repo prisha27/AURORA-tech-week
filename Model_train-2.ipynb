{
 "cells": [
  {
   "cell_type": "code",
   "execution_count": 12,
   "id": "8e232230",
   "metadata": {},
   "outputs": [],
   "source": [
    "#collect images - code\n",
    "#setup labelImg\n",
    "#label images\n",
    "#update labelmap\n",
    "#train\n",
    "#update checkpoint\n",
    "#detect signs\n",
    "\n",
    "import os #package to create files and manage filepaths\n",
    "# !pip install wget #install wget\n",
    "import wget #to download from urls"
   ]
  },
  {
   "cell_type": "markdown",
   "id": "614d0ca1",
   "metadata": {},
   "source": [
    "# Setup 1\n",
    "## (no need of executing)"
   ]
  },
  {
   "cell_type": "code",
   "execution_count": 4,
   "id": "2b5d6623",
   "metadata": {},
   "outputs": [
    {
     "name": "stdout",
     "output_type": "stream",
     "text": [
      "^C\n"
     ]
    }
   ],
   "source": [
    "#download tensorflow model garden to use object_dectection api\n",
    "if not os.path.exists(os.path.join('/Users/asmitabasak/Hand_Gesture/Tensorflow/models', 'research', 'object_detection')):\n",
    "    !git clone https://github.com/tensorflow/models {'/Users/asmitabasak/Hand_Gesture/Tensorflow/models'}"
   ]
  },
  {
   "cell_type": "code",
   "execution_count": 3,
   "id": "f87ffca5",
   "metadata": {
    "scrolled": true
   },
   "outputs": [
    {
     "name": "stdout",
     "output_type": "stream",
     "text": [
      "100% [......................................................] 1468733 / 1468733"
     ]
    },
    {
     "data": {
      "text/plain": [
       "'protoc-3.15.6-win64.zip'"
      ]
     },
     "execution_count": 3,
     "metadata": {},
     "output_type": "execute_result"
    }
   ],
   "source": [
    "#install protoc zip\n",
    "url=\"https://github.com/protocolbuffers/protobuf/releases/download/v3.15.6/protoc-3.15.6-win64.zip\"\n",
    "wget.download(url)"
   ]
  },
  {
   "cell_type": "code",
   "execution_count": 4,
   "id": "77d44f27",
   "metadata": {},
   "outputs": [
    {
     "name": "stdout",
     "output_type": "stream",
     "text": [
      "Archive:  protoc-3.15.6-win64.zip\n",
      "   creating: include/\n",
      "   creating: include/google/\n",
      "   creating: include/google/protobuf/\n",
      "  inflating: include/google/protobuf/wrappers.proto  \n",
      "  inflating: include/google/protobuf/field_mask.proto  \n",
      "  inflating: include/google/protobuf/api.proto  \n",
      "  inflating: include/google/protobuf/struct.proto  \n",
      "  inflating: include/google/protobuf/descriptor.proto  \n",
      "  inflating: include/google/protobuf/timestamp.proto  \n",
      "   creating: include/google/protobuf/compiler/\n",
      "  inflating: include/google/protobuf/compiler/plugin.proto  \n",
      "  inflating: include/google/protobuf/empty.proto  \n",
      "  inflating: include/google/protobuf/any.proto  \n",
      "  inflating: include/google/protobuf/source_context.proto  \n",
      "  inflating: include/google/protobuf/type.proto  \n",
      "  inflating: include/google/protobuf/duration.proto  \n",
      "   creating: bin/\n",
      "  inflating: bin/protoc.exe          \n",
      "  inflating: readme.txt              \n"
     ]
    }
   ],
   "source": [
    "#unzip the protoc zip\n",
    "!mv protoc-3.15.6-win64.zip {'/Users/asmitabasak/Hand_Gesture/Tensorflow/protoc'}\n",
    "!cd {'/Users/asmitabasak/Hand_Gesture/Tensorflow/protoc'} && unzip protoc-3.15.6-win64.zip"
   ]
  },
  {
   "cell_type": "markdown",
   "id": "04a05f47",
   "metadata": {},
   "source": [
    "# Setup 2"
   ]
  },
  {
   "cell_type": "code",
   "execution_count": 5,
   "id": "c18a0d77",
   "metadata": {},
   "outputs": [],
   "source": [
    "os.environ['PATH'] += os.pathsep + os.path.abspath(os.path.join('D:/Users/morvin/Documents/GitHub/RealTimeObjectDetection/Tensorflow/protoc', 'bin'))"
   ]
  },
  {
   "cell_type": "code",
   "execution_count": 6,
   "id": "4305b30c",
   "metadata": {},
   "outputs": [
    {
     "name": "stderr",
     "output_type": "stream",
     "text": [
      "object_detection/protos/box_coder.proto: \"object_detection.protos.BoxCoder.box_coder_oneof\" is already defined in file \"object_detection/protos/box_coder(1).proto\".\n",
      "object_detection/protos/box_coder.proto:14:24: \"object_detection.protos.BoxCoder.faster_rcnn_box_coder\" is already defined in file \"object_detection/protos/box_coder(1).proto\".\n",
      "object_detection/protos/box_coder.proto:15:24: \"object_detection.protos.BoxCoder.mean_stddev_box_coder\" is already defined in file \"object_detection/protos/box_coder(1).proto\".\n",
      "object_detection/protos/box_coder.proto:16:20: \"object_detection.protos.BoxCoder.square_box_coder\" is already defined in file \"object_detection/protos/box_coder(1).proto\".\n",
      "object_detection/protos/box_coder.proto:17:22: \"object_detection.protos.BoxCoder.keypoint_box_coder\" is already defined in file \"object_detection/protos/box_coder(1).proto\".\n",
      "object_detection/protos/box_coder.proto:12:9: \"object_detection.protos.BoxCoder\" is already defined in file \"object_detection/protos/box_coder(1).proto\".\n"
     ]
    }
   ],
   "source": [
    "!cd D:/Users/morvin/Documents/GitHub/RealTimeObjectDetection/Tensorflow/models/research && protoc object_detection/protos/*.proto --python_out=. && cp object_detection/packages/tf2/setup.py setup.py && python setup.py build && python setup.py install"
   ]
  },
  {
   "cell_type": "code",
   "execution_count": 7,
   "id": "79a39e0e",
   "metadata": {},
   "outputs": [],
   "source": [
    "#restart kernel\n",
    "import object_detection"
   ]
  },
  {
   "cell_type": "markdown",
   "id": "cfd15b68",
   "metadata": {},
   "source": [
    "## Setup 3"
   ]
  },
  {
   "cell_type": "code",
   "execution_count": 2,
   "id": "8453f2e1",
   "metadata": {},
   "outputs": [],
   "source": [
    "WORKSPACE_PATH = 'D:/Users/morvin/Documents/GitHub/RealTimeObjectDetection/Tensorflow/workspace'\n",
    "SCRIPTS_PATH = 'D:/Users/morvin/Documents/GitHub/RealTimeObjectDetection/Tensorflow/scripts'\n",
    "APIMODEL_PATH = 'D:/Users/morvin/Documents/GitHub/RealTimeObjectDetection/Tensorflow/models'\n",
    "ANNOTATION_PATH = WORKSPACE_PATH+'/annotations'\n",
    "IMAGE_PATH = WORKSPACE_PATH+'/images'\n",
    "MODEL_PATH = WORKSPACE_PATH+'/models'\n",
    "PRETRAINED_MODEL_PATH = WORKSPACE_PATH+'/pre-trained-models'\n",
    "CONFIG_PATH = MODEL_PATH+'/my_ssd_mobnet/pipeline.config'\n",
    "CHECKPOINT_PATH = MODEL_PATH+'/my_ssd_mobnet/'"
   ]
  },
  {
   "cell_type": "code",
   "execution_count": 4,
   "id": "58d2b966",
   "metadata": {},
   "outputs": [],
   "source": [
    "labels = [{'name':'Hello', 'id':1}, {'name':'Yes', 'id':2}, {'name':'No','id':3}, {'name':'Thank You','id':4}, {'name':'I love you','id':5}]\n",
    "\n",
    "with open(ANNOTATION_PATH + '/label_map.pbtxt', 'w') as f:\n",
    "    for label in labels:\n",
    "        f.write('item { \\n')\n",
    "        f.write('\\tname:\\'{}\\'\\n'.format(label['name']))\n",
    "        f.write('\\tid:{}\\n'.format(label['id']))\n",
    "        f.write('}\\n')"
   ]
  },
  {
   "cell_type": "code",
   "execution_count": 58,
   "id": "0be69531",
   "metadata": {
    "scrolled": true
   },
   "outputs": [
    {
     "name": "stdout",
     "output_type": "stream",
     "text": [
      "Successfully created the TFRecord file: /Users/asmitabasak/Hand_Gesture/Tensorflow/workspace/annotations/train.record\n",
      "Successfully created the TFRecord file: /Users/asmitabasak/Hand_Gesture/Tensorflow/workspace/annotations/test.record\n"
     ]
    }
   ],
   "source": [
    "#create tfrecords\n",
    "# !python {SCRIPTS_PATH + '/generate_tfrecord.py'} -x {IMAGE_PATH + '/train_gray'} -l {ANNOTATION_PATH + '/label_map.pbtxt'} -o {ANNOTATION_PATH + '/train.record'}\n",
    "# !python {SCRIPTS_PATH + '/generate_tfrecord.py'} -x {IMAGE_PATH + '/test_gray'} -l {ANNOTATION_PATH + '/label_map.pbtxt'} -o {ANNOTATION_PATH + '/test.record'}"
   ]
  },
  {
   "cell_type": "code",
   "execution_count": 8,
   "id": "f7d32e6e",
   "metadata": {},
   "outputs": [],
   "source": [
    "#download the model\n",
    "CUSTOM_MODEL_NAME = 'my_ssd_mobnet' \n",
    "# !mkdir {'/Users/asmitabasak/Hand_Gesture/Tensorflow/workspace/models/'+CUSTOM_MODEL_NAME}\n",
    "# !cp {PRETRAINED_MODEL_PATH+'/ssd_mobilenet_v2_fpnlite_320x320_coco17_tpu-8/pipeline.config'} {MODEL_PATH+'/'+CUSTOM_MODEL_NAME}"
   ]
  },
  {
   "cell_type": "markdown",
   "id": "964f2a6b",
   "metadata": {},
   "source": [
    "## Update config"
   ]
  },
  {
   "cell_type": "code",
   "execution_count": 9,
   "id": "51eeaccf",
   "metadata": {},
   "outputs": [],
   "source": [
    "import tensorflow as tf\n",
    "from object_detection.utils import config_util\n",
    "from object_detection.protos import pipeline_pb2\n",
    "from google.protobuf import text_format"
   ]
  },
  {
   "cell_type": "code",
   "execution_count": 7,
   "id": "b0ed2f90",
   "metadata": {},
   "outputs": [
    {
     "data": {
      "text/plain": [
       "{'model': ssd {\n",
       "   num_classes: 90\n",
       "   image_resizer {\n",
       "     fixed_shape_resizer {\n",
       "       height: 320\n",
       "       width: 320\n",
       "     }\n",
       "   }\n",
       "   feature_extractor {\n",
       "     type: \"ssd_mobilenet_v2_fpn_keras\"\n",
       "     depth_multiplier: 1.0\n",
       "     min_depth: 16\n",
       "     conv_hyperparams {\n",
       "       regularizer {\n",
       "         l2_regularizer {\n",
       "           weight: 3.9999998989515007e-05\n",
       "         }\n",
       "       }\n",
       "       initializer {\n",
       "         random_normal_initializer {\n",
       "           mean: 0.0\n",
       "           stddev: 0.009999999776482582\n",
       "         }\n",
       "       }\n",
       "       activation: RELU_6\n",
       "       batch_norm {\n",
       "         decay: 0.996999979019165\n",
       "         scale: true\n",
       "         epsilon: 0.0010000000474974513\n",
       "       }\n",
       "     }\n",
       "     use_depthwise: true\n",
       "     override_base_feature_extractor_hyperparams: true\n",
       "     fpn {\n",
       "       min_level: 3\n",
       "       max_level: 7\n",
       "       additional_layer_depth: 128\n",
       "     }\n",
       "   }\n",
       "   box_coder {\n",
       "     faster_rcnn_box_coder {\n",
       "       y_scale: 10.0\n",
       "       x_scale: 10.0\n",
       "       height_scale: 5.0\n",
       "       width_scale: 5.0\n",
       "     }\n",
       "   }\n",
       "   matcher {\n",
       "     argmax_matcher {\n",
       "       matched_threshold: 0.5\n",
       "       unmatched_threshold: 0.5\n",
       "       ignore_thresholds: false\n",
       "       negatives_lower_than_unmatched: true\n",
       "       force_match_for_each_row: true\n",
       "       use_matmul_gather: true\n",
       "     }\n",
       "   }\n",
       "   similarity_calculator {\n",
       "     iou_similarity {\n",
       "     }\n",
       "   }\n",
       "   box_predictor {\n",
       "     weight_shared_convolutional_box_predictor {\n",
       "       conv_hyperparams {\n",
       "         regularizer {\n",
       "           l2_regularizer {\n",
       "             weight: 3.9999998989515007e-05\n",
       "           }\n",
       "         }\n",
       "         initializer {\n",
       "           random_normal_initializer {\n",
       "             mean: 0.0\n",
       "             stddev: 0.009999999776482582\n",
       "           }\n",
       "         }\n",
       "         activation: RELU_6\n",
       "         batch_norm {\n",
       "           decay: 0.996999979019165\n",
       "           scale: true\n",
       "           epsilon: 0.0010000000474974513\n",
       "         }\n",
       "       }\n",
       "       depth: 128\n",
       "       num_layers_before_predictor: 4\n",
       "       kernel_size: 3\n",
       "       class_prediction_bias_init: -4.599999904632568\n",
       "       share_prediction_tower: true\n",
       "       use_depthwise: true\n",
       "     }\n",
       "   }\n",
       "   anchor_generator {\n",
       "     multiscale_anchor_generator {\n",
       "       min_level: 3\n",
       "       max_level: 7\n",
       "       anchor_scale: 4.0\n",
       "       aspect_ratios: 1.0\n",
       "       aspect_ratios: 2.0\n",
       "       aspect_ratios: 0.5\n",
       "       scales_per_octave: 2\n",
       "     }\n",
       "   }\n",
       "   post_processing {\n",
       "     batch_non_max_suppression {\n",
       "       score_threshold: 9.99999993922529e-09\n",
       "       iou_threshold: 0.6000000238418579\n",
       "       max_detections_per_class: 100\n",
       "       max_total_detections: 100\n",
       "       use_static_shapes: false\n",
       "     }\n",
       "     score_converter: SIGMOID\n",
       "   }\n",
       "   normalize_loss_by_num_matches: true\n",
       "   loss {\n",
       "     localization_loss {\n",
       "       weighted_smooth_l1 {\n",
       "       }\n",
       "     }\n",
       "     classification_loss {\n",
       "       weighted_sigmoid_focal {\n",
       "         gamma: 2.0\n",
       "         alpha: 0.25\n",
       "       }\n",
       "     }\n",
       "     classification_weight: 1.0\n",
       "     localization_weight: 1.0\n",
       "   }\n",
       "   encode_background_as_zeros: true\n",
       "   normalize_loc_loss_by_codesize: true\n",
       "   inplace_batchnorm_update: true\n",
       "   freeze_batchnorm: false\n",
       " },\n",
       " 'train_config': batch_size: 128\n",
       " data_augmentation_options {\n",
       "   random_horizontal_flip {\n",
       "   }\n",
       " }\n",
       " data_augmentation_options {\n",
       "   random_crop_image {\n",
       "     min_object_covered: 0.0\n",
       "     min_aspect_ratio: 0.75\n",
       "     max_aspect_ratio: 3.0\n",
       "     min_area: 0.75\n",
       "     max_area: 1.0\n",
       "     overlap_thresh: 0.0\n",
       "   }\n",
       " }\n",
       " sync_replicas: true\n",
       " optimizer {\n",
       "   momentum_optimizer {\n",
       "     learning_rate {\n",
       "       cosine_decay_learning_rate {\n",
       "         learning_rate_base: 0.07999999821186066\n",
       "         total_steps: 50000\n",
       "         warmup_learning_rate: 0.026666000485420227\n",
       "         warmup_steps: 1000\n",
       "       }\n",
       "     }\n",
       "     momentum_optimizer_value: 0.8999999761581421\n",
       "   }\n",
       "   use_moving_average: false\n",
       " }\n",
       " fine_tune_checkpoint: \"PATH_TO_BE_CONFIGURED\"\n",
       " num_steps: 50000\n",
       " startup_delay_steps: 0.0\n",
       " replicas_to_aggregate: 8\n",
       " max_number_of_boxes: 100\n",
       " unpad_groundtruth_tensors: false\n",
       " fine_tune_checkpoint_type: \"classification\"\n",
       " fine_tune_checkpoint_version: V2,\n",
       " 'train_input_config': label_map_path: \"PATH_TO_BE_CONFIGURED\"\n",
       " tf_record_input_reader {\n",
       "   input_path: \"PATH_TO_BE_CONFIGURED\"\n",
       " },\n",
       " 'eval_config': metrics_set: \"coco_detection_metrics\"\n",
       " use_moving_averages: false,\n",
       " 'eval_input_configs': [label_map_path: \"PATH_TO_BE_CONFIGURED\"\n",
       " shuffle: false\n",
       " num_epochs: 1\n",
       " tf_record_input_reader {\n",
       "   input_path: \"PATH_TO_BE_CONFIGURED\"\n",
       " }\n",
       " ],\n",
       " 'eval_input_config': label_map_path: \"PATH_TO_BE_CONFIGURED\"\n",
       " shuffle: false\n",
       " num_epochs: 1\n",
       " tf_record_input_reader {\n",
       "   input_path: \"PATH_TO_BE_CONFIGURED\"\n",
       " }}"
      ]
     },
     "execution_count": 7,
     "metadata": {},
     "output_type": "execute_result"
    }
   ],
   "source": [
    "CONFIG_PATH = MODEL_PATH+'/'+CUSTOM_MODEL_NAME+'/pipeline.config'\n",
    "config = config_util.get_configs_from_pipeline_file(CONFIG_PATH)\n",
    "config"
   ]
  },
  {
   "cell_type": "code",
   "execution_count": 8,
   "id": "d6d144c8",
   "metadata": {},
   "outputs": [],
   "source": [
    "pipeline_config = pipeline_pb2.TrainEvalPipelineConfig()\n",
    "with tf.io.gfile.GFile(CONFIG_PATH, \"r\") as f:                                                                                                                                                                                                                     \n",
    "    proto_str = f.read()                                                                                                                                                                                                                                          \n",
    "    text_format.Merge(proto_str, pipeline_config) "
   ]
  },
  {
   "cell_type": "code",
   "execution_count": 9,
   "id": "43618452",
   "metadata": {},
   "outputs": [],
   "source": [
    "pipeline_config.model.ssd.num_classes = 5\n",
    "pipeline_config.train_config.batch_size = 4\n",
    "pipeline_config.train_config.fine_tune_checkpoint = PRETRAINED_MODEL_PATH+'/ssd_mobilenet_v2_fpnlite_320x320_coco17_tpu-8/checkpoint/ckpt-0'\n",
    "pipeline_config.train_config.fine_tune_checkpoint_type = \"detection\"\n",
    "pipeline_config.train_input_reader.label_map_path= ANNOTATION_PATH + '/label_map.pbtxt'\n",
    "pipeline_config.train_input_reader.tf_record_input_reader.input_path[:] = [ANNOTATION_PATH + '/train.record']\n",
    "pipeline_config.eval_input_reader[0].label_map_path = ANNOTATION_PATH + '/label_map.pbtxt'\n",
    "pipeline_config.eval_input_reader[0].tf_record_input_reader.input_path[:] = [ANNOTATION_PATH + '/test.record']"
   ]
  },
  {
   "cell_type": "code",
   "execution_count": 10,
   "id": "a8e3ad18",
   "metadata": {},
   "outputs": [],
   "source": [
    "config_text = text_format.MessageToString(pipeline_config)                                                                                                                                                                                                        \n",
    "with tf.io.gfile.GFile(CONFIG_PATH, \"wb\") as f:                                                                                                                                                                                                                     \n",
    "    f.write(config_text)"
   ]
  },
  {
   "cell_type": "markdown",
   "id": "5abff91a",
   "metadata": {},
   "source": [
    "## Training"
   ]
  },
  {
   "cell_type": "code",
   "execution_count": 50,
   "id": "ee137c7c",
   "metadata": {},
   "outputs": [],
   "source": [
    "#for training your own model(on windows)\n",
    "#!pip install pytz\n",
    "#!pip install git+https://github.com/philferriere/cocoapi.git#egg=pycocotools^&subdirectory=PythonAPI"
   ]
  },
  {
   "cell_type": "code",
   "execution_count": 5,
   "id": "54e7cc2a",
   "metadata": {},
   "outputs": [],
   "source": [
    "command=\"python {}/research/object_detection/model_main_tf2.py --model_dir={}/{} --pipeline_config_path={}/{}/pipeline.config --num_train_steps=10000\".format(APIMODEL_PATH, MODEL_PATH,CUSTOM_MODEL_NAME,MODEL_PATH,CUSTOM_MODEL_NAME)"
   ]
  },
  {
   "cell_type": "code",
   "execution_count": 6,
   "id": "c78c778f",
   "metadata": {
    "scrolled": false
   },
   "outputs": [
    {
     "name": "stdout",
     "output_type": "stream",
     "text": [
      "python D:/Users/morvin/Documents/GitHub/RealTimeObjectDetection/Tensorflow/models/research/object_detection/model_main_tf2.py --model_dir=D:/Users/morvin/Documents/GitHub/RealTimeObjectDetection/Tensorflow/workspace/models/my_ssd_mobnet --pipeline_config_path=D:/Users/morvin/Documents/GitHub/RealTimeObjectDetection/Tensorflow/workspace/models/my_ssd_mobnet/pipeline.config --num_train_steps=10000\n"
     ]
    }
   ],
   "source": [
    "#!{command}\n",
    "print(command)"
   ]
  },
  {
   "cell_type": "markdown",
   "id": "f605c31f",
   "metadata": {},
   "source": [
    "## Loading checkpoint"
   ]
  },
  {
   "cell_type": "code",
   "execution_count": 10,
   "id": "5d3131c6",
   "metadata": {},
   "outputs": [],
   "source": [
    "from object_detection.utils import label_map_util\n",
    "from object_detection.utils import visualization_utils as viz_utils\n",
    "from object_detection.builders import model_builder"
   ]
  },
  {
   "cell_type": "code",
   "execution_count": 13,
   "id": "0aeb3dd6",
   "metadata": {},
   "outputs": [],
   "source": [
    "# Load pipeline config and build a detection model\n",
    "configs = config_util.get_configs_from_pipeline_file(CONFIG_PATH)\n",
    "detection_model = model_builder.build(model_config=configs['model'], is_training=False)\n",
    "\n",
    "# Restore checkpoint\n",
    "ckpt = tf.compat.v2.train.Checkpoint(model=detection_model)\n",
    "ckpt.restore(os.path.join(CHECKPOINT_PATH, 'ckpt-10')).expect_partial()\n",
    "\n",
    "@tf.function\n",
    "def detect_fn(image):\n",
    "    image, shapes = detection_model.preprocess(image)\n",
    "    prediction_dict = detection_model.predict(image, shapes)\n",
    "    detections = detection_model.postprocess(prediction_dict, shapes)\n",
    "    return detections\n",
    "#detect_fn = tf.function(detect_fn(image))"
   ]
  },
  {
   "cell_type": "markdown",
   "id": "160094e7",
   "metadata": {},
   "source": [
    "## Live Detection"
   ]
  },
  {
   "cell_type": "code",
   "execution_count": 14,
   "id": "772da9e0",
   "metadata": {},
   "outputs": [],
   "source": [
    "import cv2 \n",
    "import numpy as np"
   ]
  },
  {
   "cell_type": "code",
   "execution_count": 15,
   "id": "75acb826",
   "metadata": {},
   "outputs": [],
   "source": [
    "category_index = label_map_util.create_category_index_from_labelmap(ANNOTATION_PATH+'/label_map.pbtxt')\n"
   ]
  },
  {
   "cell_type": "code",
   "execution_count": 16,
   "id": "70b8f973",
   "metadata": {},
   "outputs": [],
   "source": [
    "# Setup capture\n",
    "cap = cv2.VideoCapture(0)\n",
    "width = int(cap.get(cv2.CAP_PROP_FRAME_WIDTH))\n",
    "height = int(cap.get(cv2.CAP_PROP_FRAME_HEIGHT))\n",
    "while True: \n",
    "    ret, frame = cap.read()\n",
    "    image_np = np.array(frame)\n",
    "    \n",
    "    input_tensor = tf.convert_to_tensor(np.expand_dims(image_np, 0), dtype=tf.float32)\n",
    "    detections = detect_fn(input_tensor)\n",
    "    #print(detections)\n",
    "\n",
    "    num_detections = int(detections.pop('num_detections'))\n",
    "    \n",
    "    detections = {key: value[0, :num_detections].numpy()\n",
    "                  for key, value in detections.items()}\n",
    "    detections['num_detections'] = num_detections\n",
    "\n",
    "    # detection_classes should be ints.\n",
    "    #print(detections['detection_classes'])\n",
    "    detections['detection_classes'] = detections['detection_classes'].astype(np.int64)\n",
    "\n",
    "    label_id_offset = 1\n",
    "    image_np_with_detections = image_np.copy()\n",
    "    \n",
    "    viz_utils.visualize_boxes_and_labels_on_image_array(\n",
    "                image_np_with_detections,\n",
    "                detections['detection_boxes'],\n",
    "                detections['detection_classes']+label_id_offset,\n",
    "                detections['detection_scores'],\n",
    "                category_index,\n",
    "                use_normalized_coordinates=True,\n",
    "                max_boxes_to_draw=1,\n",
    "                min_score_thresh=.6,\n",
    "                agnostic_mode=False)\n",
    "    viz_utils.visualize_boxes_and_labels_on_image_array(\n",
    "                image_np_with_detections,\n",
    "                detections['detection_boxes'],\n",
    "                detections['detection_classes']+label_id_offset,\n",
    "                detections['detection_scores'],\n",
    "                category_index,\n",
    "                use_normalized_coordinates=False,\n",
    "                max_boxes_to_draw=1,\n",
    "                min_score_thresh=.6,\n",
    "                agnostic_mode=False)\n",
    "#     print(detections[\"detection_scores\"])\n",
    "\n",
    "#     print(detections['detection_boxes'])\n",
    "    cv2.imshow('object detection',  cv2.resize(image_np_with_detections, (800, 600)))\n",
    "    \n",
    "    if cv2.waitKey(1) & 0xFF == ord('q'):\n",
    "        break\n",
    "cap.release()\n",
    "cv2.destroyAllWindows()\n",
    "for i in range(5):\n",
    "    cv2.waitKey(1)"
   ]
  },
  {
   "cell_type": "code",
   "execution_count": 15,
   "id": "1fab3945",
   "metadata": {},
   "outputs": [],
   "source": [
    "cap.release()"
   ]
  },
  {
   "cell_type": "code",
   "execution_count": 20,
   "id": "a80264cc",
   "metadata": {},
   "outputs": [],
   "source": [
    "# img=cv2.imread('/Users/asmitabasak/Downloads/laterite.webp')\n",
    "# cv2.imshow('frame',img)"
   ]
  },
  {
   "cell_type": "code",
   "execution_count": null,
   "id": "f59e44df",
   "metadata": {},
   "outputs": [],
   "source": []
  }
 ],
 "metadata": {
  "kernelspec": {
   "display_name": "Python 3 (ipykernel)",
   "language": "python",
   "name": "python3"
  },
  "language_info": {
   "codemirror_mode": {
    "name": "ipython",
    "version": 3
   },
   "file_extension": ".py",
   "mimetype": "text/x-python",
   "name": "python",
   "nbconvert_exporter": "python",
   "pygments_lexer": "ipython3",
   "version": "3.8.10"
  }
 },
 "nbformat": 4,
 "nbformat_minor": 5
}
